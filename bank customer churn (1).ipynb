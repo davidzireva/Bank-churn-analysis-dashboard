{
 "cells": [
  {
   "cell_type": "markdown",
   "id": "413992ab-3891-46dd-80c2-524bfcb2fbde",
   "metadata": {},
   "source": [
    "### Data analysis project by David Zireva\n",
    "#### Bank customer churn analysis"
   ]
  },
  {
   "cell_type": "code",
   "execution_count": 98,
   "id": "99cec52e-f695-4445-8f8a-02c1df17b2ce",
   "metadata": {},
   "outputs": [],
   "source": [
    "import numpy as np\n",
    "import pandas as pd\n",
    "import matplotlib.pyplot as plt"
   ]
  },
  {
   "cell_type": "code",
   "execution_count": 134,
   "id": "b6e00d2f-950b-4482-a19b-e6feb1faf16b",
   "metadata": {},
   "outputs": [
    {
     "data": {
      "text/html": [
       "<div>\n",
       "<style scoped>\n",
       "    .dataframe tbody tr th:only-of-type {\n",
       "        vertical-align: middle;\n",
       "    }\n",
       "\n",
       "    .dataframe tbody tr th {\n",
       "        vertical-align: top;\n",
       "    }\n",
       "\n",
       "    .dataframe thead th {\n",
       "        text-align: right;\n",
       "    }\n",
       "</style>\n",
       "<table border=\"1\" class=\"dataframe\">\n",
       "  <thead>\n",
       "    <tr style=\"text-align: right;\">\n",
       "      <th></th>\n",
       "      <th>CustomerId</th>\n",
       "      <th>Surname</th>\n",
       "      <th>CreditScore</th>\n",
       "      <th>Geography</th>\n",
       "      <th>Gender</th>\n",
       "      <th>Age</th>\n",
       "      <th>Tenure</th>\n",
       "      <th>Balance</th>\n",
       "      <th>NumOfProducts</th>\n",
       "      <th>HasCrCard</th>\n",
       "      <th>IsActiveMember</th>\n",
       "      <th>EstimatedSalary</th>\n",
       "      <th>Exited</th>\n",
       "    </tr>\n",
       "  </thead>\n",
       "  <tbody>\n",
       "    <tr>\n",
       "      <th>0</th>\n",
       "      <td>15634602</td>\n",
       "      <td>Hargrave</td>\n",
       "      <td>619</td>\n",
       "      <td>France</td>\n",
       "      <td>Female</td>\n",
       "      <td>42</td>\n",
       "      <td>2</td>\n",
       "      <td>0.00</td>\n",
       "      <td>1</td>\n",
       "      <td>1</td>\n",
       "      <td>1</td>\n",
       "      <td>101348.88</td>\n",
       "      <td>1</td>\n",
       "    </tr>\n",
       "    <tr>\n",
       "      <th>1</th>\n",
       "      <td>15647311</td>\n",
       "      <td>Hill</td>\n",
       "      <td>608</td>\n",
       "      <td>Spain</td>\n",
       "      <td>Female</td>\n",
       "      <td>41</td>\n",
       "      <td>1</td>\n",
       "      <td>83807.86</td>\n",
       "      <td>1</td>\n",
       "      <td>0</td>\n",
       "      <td>1</td>\n",
       "      <td>112542.58</td>\n",
       "      <td>0</td>\n",
       "    </tr>\n",
       "    <tr>\n",
       "      <th>2</th>\n",
       "      <td>15619304</td>\n",
       "      <td>Onio</td>\n",
       "      <td>502</td>\n",
       "      <td>France</td>\n",
       "      <td>Female</td>\n",
       "      <td>42</td>\n",
       "      <td>8</td>\n",
       "      <td>159660.80</td>\n",
       "      <td>3</td>\n",
       "      <td>1</td>\n",
       "      <td>0</td>\n",
       "      <td>113931.57</td>\n",
       "      <td>1</td>\n",
       "    </tr>\n",
       "    <tr>\n",
       "      <th>3</th>\n",
       "      <td>15701354</td>\n",
       "      <td>Boni</td>\n",
       "      <td>699</td>\n",
       "      <td>France</td>\n",
       "      <td>Female</td>\n",
       "      <td>39</td>\n",
       "      <td>1</td>\n",
       "      <td>0.00</td>\n",
       "      <td>2</td>\n",
       "      <td>0</td>\n",
       "      <td>0</td>\n",
       "      <td>93826.63</td>\n",
       "      <td>0</td>\n",
       "    </tr>\n",
       "    <tr>\n",
       "      <th>4</th>\n",
       "      <td>15737888</td>\n",
       "      <td>Mitchell</td>\n",
       "      <td>850</td>\n",
       "      <td>Spain</td>\n",
       "      <td>Female</td>\n",
       "      <td>43</td>\n",
       "      <td>2</td>\n",
       "      <td>125510.82</td>\n",
       "      <td>1</td>\n",
       "      <td>1</td>\n",
       "      <td>1</td>\n",
       "      <td>79084.10</td>\n",
       "      <td>0</td>\n",
       "    </tr>\n",
       "  </tbody>\n",
       "</table>\n",
       "</div>"
      ],
      "text/plain": [
       "   CustomerId   Surname  CreditScore Geography  Gender  Age  Tenure  \\\n",
       "0    15634602  Hargrave          619    France  Female   42       2   \n",
       "1    15647311      Hill          608     Spain  Female   41       1   \n",
       "2    15619304      Onio          502    France  Female   42       8   \n",
       "3    15701354      Boni          699    France  Female   39       1   \n",
       "4    15737888  Mitchell          850     Spain  Female   43       2   \n",
       "\n",
       "     Balance  NumOfProducts  HasCrCard  IsActiveMember  EstimatedSalary  \\\n",
       "0       0.00              1          1               1        101348.88   \n",
       "1   83807.86              1          0               1        112542.58   \n",
       "2  159660.80              3          1               0        113931.57   \n",
       "3       0.00              2          0               0         93826.63   \n",
       "4  125510.82              1          1               1         79084.10   \n",
       "\n",
       "   Exited  \n",
       "0       1  \n",
       "1       0  \n",
       "2       1  \n",
       "3       0  \n",
       "4       0  "
      ]
     },
     "execution_count": 134,
     "metadata": {},
     "output_type": "execute_result"
    }
   ],
   "source": [
    "# import csv file\n",
    "df = pd.read_csv('Bank_Churn.csv')\n",
    "df.head()"
   ]
  },
  {
   "cell_type": "code",
   "execution_count": 17,
   "id": "466a1d78-faf9-4792-a25a-546b7518e87c",
   "metadata": {},
   "outputs": [
    {
     "data": {
      "text/plain": [
       "(10000, 13)"
      ]
     },
     "execution_count": 17,
     "metadata": {},
     "output_type": "execute_result"
    }
   ],
   "source": [
    "df.shape"
   ]
  },
  {
   "cell_type": "code",
   "execution_count": 39,
   "id": "50fb5e5a-e9c4-44a4-92a0-76aadb821ad5",
   "metadata": {},
   "outputs": [
    {
     "name": "stdout",
     "output_type": "stream",
     "text": [
      "<class 'pandas.core.frame.DataFrame'>\n",
      "RangeIndex: 10000 entries, 0 to 9999\n",
      "Data columns (total 13 columns):\n",
      " #   Column           Non-Null Count  Dtype  \n",
      "---  ------           --------------  -----  \n",
      " 0   CustomerId       10000 non-null  int64  \n",
      " 1   Surname          10000 non-null  object \n",
      " 2   CreditScore      10000 non-null  int64  \n",
      " 3   Geography        10000 non-null  object \n",
      " 4   Gender           10000 non-null  object \n",
      " 5   Age              10000 non-null  int64  \n",
      " 6   Tenure           10000 non-null  int64  \n",
      " 7   Balance          10000 non-null  float64\n",
      " 8   NumOfProducts    10000 non-null  int64  \n",
      " 9   HasCrCard        10000 non-null  int64  \n",
      " 10  IsActiveMember   10000 non-null  int64  \n",
      " 11  EstimatedSalary  10000 non-null  float64\n",
      " 12  Exited           10000 non-null  int64  \n",
      "dtypes: float64(2), int64(8), object(3)\n",
      "memory usage: 1015.8+ KB\n"
     ]
    }
   ],
   "source": [
    "df.info()"
   ]
  },
  {
   "cell_type": "code",
   "execution_count": 136,
   "id": "d6ed9bbd-9b77-42c1-b2f3-56b80bf7c093",
   "metadata": {},
   "outputs": [
    {
     "data": {
      "text/html": [
       "<div>\n",
       "<style scoped>\n",
       "    .dataframe tbody tr th:only-of-type {\n",
       "        vertical-align: middle;\n",
       "    }\n",
       "\n",
       "    .dataframe tbody tr th {\n",
       "        vertical-align: top;\n",
       "    }\n",
       "\n",
       "    .dataframe thead th {\n",
       "        text-align: right;\n",
       "    }\n",
       "</style>\n",
       "<table border=\"1\" class=\"dataframe\">\n",
       "  <thead>\n",
       "    <tr style=\"text-align: right;\">\n",
       "      <th></th>\n",
       "      <th>CustomerId</th>\n",
       "      <th>Surname</th>\n",
       "      <th>CreditScore</th>\n",
       "      <th>Geography</th>\n",
       "      <th>Gender</th>\n",
       "      <th>Age</th>\n",
       "      <th>Tenure</th>\n",
       "      <th>Balance</th>\n",
       "      <th>NumOfProducts</th>\n",
       "      <th>HasCrCard</th>\n",
       "      <th>IsActiveMember</th>\n",
       "      <th>EstimatedSalary</th>\n",
       "      <th>Exited</th>\n",
       "    </tr>\n",
       "  </thead>\n",
       "  <tbody>\n",
       "    <tr>\n",
       "      <th>0</th>\n",
       "      <td>15634602</td>\n",
       "      <td>Hargrave</td>\n",
       "      <td>619</td>\n",
       "      <td>France</td>\n",
       "      <td>Female</td>\n",
       "      <td>42</td>\n",
       "      <td>2</td>\n",
       "      <td>0.00</td>\n",
       "      <td>1</td>\n",
       "      <td>1</td>\n",
       "      <td>1</td>\n",
       "      <td>101348.88</td>\n",
       "      <td>1</td>\n",
       "    </tr>\n",
       "    <tr>\n",
       "      <th>2</th>\n",
       "      <td>15619304</td>\n",
       "      <td>Onio</td>\n",
       "      <td>502</td>\n",
       "      <td>France</td>\n",
       "      <td>Female</td>\n",
       "      <td>42</td>\n",
       "      <td>8</td>\n",
       "      <td>159660.80</td>\n",
       "      <td>3</td>\n",
       "      <td>1</td>\n",
       "      <td>0</td>\n",
       "      <td>113931.57</td>\n",
       "      <td>1</td>\n",
       "    </tr>\n",
       "    <tr>\n",
       "      <th>5</th>\n",
       "      <td>15574012</td>\n",
       "      <td>Chu</td>\n",
       "      <td>645</td>\n",
       "      <td>Spain</td>\n",
       "      <td>Male</td>\n",
       "      <td>44</td>\n",
       "      <td>8</td>\n",
       "      <td>113755.78</td>\n",
       "      <td>2</td>\n",
       "      <td>1</td>\n",
       "      <td>0</td>\n",
       "      <td>149756.71</td>\n",
       "      <td>1</td>\n",
       "    </tr>\n",
       "    <tr>\n",
       "      <th>7</th>\n",
       "      <td>15656148</td>\n",
       "      <td>Obinna</td>\n",
       "      <td>376</td>\n",
       "      <td>Germany</td>\n",
       "      <td>Female</td>\n",
       "      <td>29</td>\n",
       "      <td>4</td>\n",
       "      <td>115046.74</td>\n",
       "      <td>4</td>\n",
       "      <td>1</td>\n",
       "      <td>0</td>\n",
       "      <td>119346.88</td>\n",
       "      <td>1</td>\n",
       "    </tr>\n",
       "    <tr>\n",
       "      <th>16</th>\n",
       "      <td>15737452</td>\n",
       "      <td>Romeo</td>\n",
       "      <td>653</td>\n",
       "      <td>Germany</td>\n",
       "      <td>Male</td>\n",
       "      <td>58</td>\n",
       "      <td>1</td>\n",
       "      <td>132602.88</td>\n",
       "      <td>1</td>\n",
       "      <td>1</td>\n",
       "      <td>0</td>\n",
       "      <td>5097.67</td>\n",
       "      <td>1</td>\n",
       "    </tr>\n",
       "  </tbody>\n",
       "</table>\n",
       "</div>"
      ],
      "text/plain": [
       "    CustomerId   Surname  CreditScore Geography  Gender  Age  Tenure  \\\n",
       "0     15634602  Hargrave          619    France  Female   42       2   \n",
       "2     15619304      Onio          502    France  Female   42       8   \n",
       "5     15574012       Chu          645     Spain    Male   44       8   \n",
       "7     15656148    Obinna          376   Germany  Female   29       4   \n",
       "16    15737452     Romeo          653   Germany    Male   58       1   \n",
       "\n",
       "      Balance  NumOfProducts  HasCrCard  IsActiveMember  EstimatedSalary  \\\n",
       "0        0.00              1          1               1        101348.88   \n",
       "2   159660.80              3          1               0        113931.57   \n",
       "5   113755.78              2          1               0        149756.71   \n",
       "7   115046.74              4          1               0        119346.88   \n",
       "16  132602.88              1          1               0          5097.67   \n",
       "\n",
       "    Exited  \n",
       "0        1  \n",
       "2        1  \n",
       "5        1  \n",
       "7        1  \n",
       "16       1  "
      ]
     },
     "execution_count": 136,
     "metadata": {},
     "output_type": "execute_result"
    }
   ],
   "source": [
    "# Filtering customers who churned from the dataset \n",
    "\n",
    "df1 = df[df['Exited'] == 1]\n",
    "df1.head()"
   ]
  },
  {
   "cell_type": "code",
   "execution_count": 138,
   "id": "be147ab1-69d1-4d03-a5c8-3f56783ed19b",
   "metadata": {},
   "outputs": [
    {
     "data": {
      "text/html": [
       "<div>\n",
       "<style scoped>\n",
       "    .dataframe tbody tr th:only-of-type {\n",
       "        vertical-align: middle;\n",
       "    }\n",
       "\n",
       "    .dataframe tbody tr th {\n",
       "        vertical-align: top;\n",
       "    }\n",
       "\n",
       "    .dataframe thead th {\n",
       "        text-align: right;\n",
       "    }\n",
       "</style>\n",
       "<table border=\"1\" class=\"dataframe\">\n",
       "  <thead>\n",
       "    <tr style=\"text-align: right;\">\n",
       "      <th></th>\n",
       "      <th>CustomerId</th>\n",
       "      <th>Surname</th>\n",
       "      <th>CreditScore</th>\n",
       "      <th>Geography</th>\n",
       "      <th>Gender</th>\n",
       "      <th>Age</th>\n",
       "      <th>Tenure</th>\n",
       "      <th>Balance</th>\n",
       "      <th>NumOfProducts</th>\n",
       "      <th>HasCrCard</th>\n",
       "      <th>IsActiveMember</th>\n",
       "      <th>EstimatedSalary</th>\n",
       "      <th>Exited</th>\n",
       "    </tr>\n",
       "  </thead>\n",
       "  <tbody>\n",
       "    <tr>\n",
       "      <th>0</th>\n",
       "      <td>15634602</td>\n",
       "      <td>Hargrave</td>\n",
       "      <td>619</td>\n",
       "      <td>France</td>\n",
       "      <td>Female</td>\n",
       "      <td>42</td>\n",
       "      <td>2</td>\n",
       "      <td>0.00</td>\n",
       "      <td>1</td>\n",
       "      <td>1</td>\n",
       "      <td>1</td>\n",
       "      <td>101348.88</td>\n",
       "      <td>1</td>\n",
       "    </tr>\n",
       "    <tr>\n",
       "      <th>1</th>\n",
       "      <td>15619304</td>\n",
       "      <td>Onio</td>\n",
       "      <td>502</td>\n",
       "      <td>France</td>\n",
       "      <td>Female</td>\n",
       "      <td>42</td>\n",
       "      <td>8</td>\n",
       "      <td>159660.80</td>\n",
       "      <td>3</td>\n",
       "      <td>1</td>\n",
       "      <td>0</td>\n",
       "      <td>113931.57</td>\n",
       "      <td>1</td>\n",
       "    </tr>\n",
       "    <tr>\n",
       "      <th>2</th>\n",
       "      <td>15574012</td>\n",
       "      <td>Chu</td>\n",
       "      <td>645</td>\n",
       "      <td>Spain</td>\n",
       "      <td>Male</td>\n",
       "      <td>44</td>\n",
       "      <td>8</td>\n",
       "      <td>113755.78</td>\n",
       "      <td>2</td>\n",
       "      <td>1</td>\n",
       "      <td>0</td>\n",
       "      <td>149756.71</td>\n",
       "      <td>1</td>\n",
       "    </tr>\n",
       "    <tr>\n",
       "      <th>3</th>\n",
       "      <td>15656148</td>\n",
       "      <td>Obinna</td>\n",
       "      <td>376</td>\n",
       "      <td>Germany</td>\n",
       "      <td>Female</td>\n",
       "      <td>29</td>\n",
       "      <td>4</td>\n",
       "      <td>115046.74</td>\n",
       "      <td>4</td>\n",
       "      <td>1</td>\n",
       "      <td>0</td>\n",
       "      <td>119346.88</td>\n",
       "      <td>1</td>\n",
       "    </tr>\n",
       "    <tr>\n",
       "      <th>4</th>\n",
       "      <td>15737452</td>\n",
       "      <td>Romeo</td>\n",
       "      <td>653</td>\n",
       "      <td>Germany</td>\n",
       "      <td>Male</td>\n",
       "      <td>58</td>\n",
       "      <td>1</td>\n",
       "      <td>132602.88</td>\n",
       "      <td>1</td>\n",
       "      <td>1</td>\n",
       "      <td>0</td>\n",
       "      <td>5097.67</td>\n",
       "      <td>1</td>\n",
       "    </tr>\n",
       "  </tbody>\n",
       "</table>\n",
       "</div>"
      ],
      "text/plain": [
       "   CustomerId   Surname  CreditScore Geography  Gender  Age  Tenure  \\\n",
       "0    15634602  Hargrave          619    France  Female   42       2   \n",
       "1    15619304      Onio          502    France  Female   42       8   \n",
       "2    15574012       Chu          645     Spain    Male   44       8   \n",
       "3    15656148    Obinna          376   Germany  Female   29       4   \n",
       "4    15737452     Romeo          653   Germany    Male   58       1   \n",
       "\n",
       "     Balance  NumOfProducts  HasCrCard  IsActiveMember  EstimatedSalary  \\\n",
       "0       0.00              1          1               1        101348.88   \n",
       "1  159660.80              3          1               0        113931.57   \n",
       "2  113755.78              2          1               0        149756.71   \n",
       "3  115046.74              4          1               0        119346.88   \n",
       "4  132602.88              1          1               0          5097.67   \n",
       "\n",
       "   Exited  \n",
       "0       1  \n",
       "1       1  \n",
       "2       1  \n",
       "3       1  \n",
       "4       1  "
      ]
     },
     "execution_count": 138,
     "metadata": {},
     "output_type": "execute_result"
    }
   ],
   "source": [
    "df1 = df1.reset_index(drop = True)\n",
    "df1.head()"
   ]
  },
  {
   "cell_type": "code",
   "execution_count": 140,
   "id": "9a3b1491-0781-424f-9580-0ccb83c532ff",
   "metadata": {},
   "outputs": [
    {
     "data": {
      "text/html": [
       "<div>\n",
       "<style scoped>\n",
       "    .dataframe tbody tr th:only-of-type {\n",
       "        vertical-align: middle;\n",
       "    }\n",
       "\n",
       "    .dataframe tbody tr th {\n",
       "        vertical-align: top;\n",
       "    }\n",
       "\n",
       "    .dataframe thead th {\n",
       "        text-align: right;\n",
       "    }\n",
       "</style>\n",
       "<table border=\"1\" class=\"dataframe\">\n",
       "  <thead>\n",
       "    <tr style=\"text-align: right;\">\n",
       "      <th></th>\n",
       "      <th>CreditScore</th>\n",
       "      <th>Geography</th>\n",
       "      <th>Gender</th>\n",
       "      <th>Age</th>\n",
       "      <th>Tenure</th>\n",
       "      <th>Balance</th>\n",
       "      <th>NumOfProducts</th>\n",
       "      <th>HasCrCard</th>\n",
       "      <th>IsActiveMember</th>\n",
       "      <th>EstimatedSalary</th>\n",
       "    </tr>\n",
       "  </thead>\n",
       "  <tbody>\n",
       "    <tr>\n",
       "      <th>0</th>\n",
       "      <td>619</td>\n",
       "      <td>France</td>\n",
       "      <td>Female</td>\n",
       "      <td>42</td>\n",
       "      <td>2</td>\n",
       "      <td>0.00</td>\n",
       "      <td>1</td>\n",
       "      <td>1</td>\n",
       "      <td>1</td>\n",
       "      <td>101348.88</td>\n",
       "    </tr>\n",
       "    <tr>\n",
       "      <th>1</th>\n",
       "      <td>502</td>\n",
       "      <td>France</td>\n",
       "      <td>Female</td>\n",
       "      <td>42</td>\n",
       "      <td>8</td>\n",
       "      <td>159660.80</td>\n",
       "      <td>3</td>\n",
       "      <td>1</td>\n",
       "      <td>0</td>\n",
       "      <td>113931.57</td>\n",
       "    </tr>\n",
       "    <tr>\n",
       "      <th>2</th>\n",
       "      <td>645</td>\n",
       "      <td>Spain</td>\n",
       "      <td>Male</td>\n",
       "      <td>44</td>\n",
       "      <td>8</td>\n",
       "      <td>113755.78</td>\n",
       "      <td>2</td>\n",
       "      <td>1</td>\n",
       "      <td>0</td>\n",
       "      <td>149756.71</td>\n",
       "    </tr>\n",
       "    <tr>\n",
       "      <th>3</th>\n",
       "      <td>376</td>\n",
       "      <td>Germany</td>\n",
       "      <td>Female</td>\n",
       "      <td>29</td>\n",
       "      <td>4</td>\n",
       "      <td>115046.74</td>\n",
       "      <td>4</td>\n",
       "      <td>1</td>\n",
       "      <td>0</td>\n",
       "      <td>119346.88</td>\n",
       "    </tr>\n",
       "    <tr>\n",
       "      <th>4</th>\n",
       "      <td>653</td>\n",
       "      <td>Germany</td>\n",
       "      <td>Male</td>\n",
       "      <td>58</td>\n",
       "      <td>1</td>\n",
       "      <td>132602.88</td>\n",
       "      <td>1</td>\n",
       "      <td>1</td>\n",
       "      <td>0</td>\n",
       "      <td>5097.67</td>\n",
       "    </tr>\n",
       "  </tbody>\n",
       "</table>\n",
       "</div>"
      ],
      "text/plain": [
       "   CreditScore Geography  Gender  Age  Tenure    Balance  NumOfProducts  \\\n",
       "0          619    France  Female   42       2       0.00              1   \n",
       "1          502    France  Female   42       8  159660.80              3   \n",
       "2          645     Spain    Male   44       8  113755.78              2   \n",
       "3          376   Germany  Female   29       4  115046.74              4   \n",
       "4          653   Germany    Male   58       1  132602.88              1   \n",
       "\n",
       "   HasCrCard  IsActiveMember  EstimatedSalary  \n",
       "0          1               1        101348.88  \n",
       "1          1               0        113931.57  \n",
       "2          1               0        149756.71  \n",
       "3          1               0        119346.88  \n",
       "4          1               0          5097.67  "
      ]
     },
     "execution_count": 140,
     "metadata": {},
     "output_type": "execute_result"
    }
   ],
   "source": [
    "# drop columns that are not useful for the analysis\n",
    "removecols = ['CustomerId', 'Surname', 'Exited']\n",
    "df1 = df1.drop(columns = removecols, axis = 1)\n",
    "df1.head()"
   ]
  },
  {
   "cell_type": "code",
   "execution_count": 142,
   "id": "b71e6929-ad2e-4061-acaa-88e64be1f14f",
   "metadata": {},
   "outputs": [
    {
     "data": {
      "text/html": [
       "<div>\n",
       "<style scoped>\n",
       "    .dataframe tbody tr th:only-of-type {\n",
       "        vertical-align: middle;\n",
       "    }\n",
       "\n",
       "    .dataframe tbody tr th {\n",
       "        vertical-align: top;\n",
       "    }\n",
       "\n",
       "    .dataframe thead th {\n",
       "        text-align: right;\n",
       "    }\n",
       "</style>\n",
       "<table border=\"1\" class=\"dataframe\">\n",
       "  <thead>\n",
       "    <tr style=\"text-align: right;\">\n",
       "      <th></th>\n",
       "      <th>CreditScore</th>\n",
       "      <th>Age</th>\n",
       "      <th>Tenure</th>\n",
       "      <th>Balance</th>\n",
       "      <th>NumOfProducts</th>\n",
       "      <th>HasCrCard</th>\n",
       "      <th>IsActiveMember</th>\n",
       "      <th>EstimatedSalary</th>\n",
       "    </tr>\n",
       "  </thead>\n",
       "  <tbody>\n",
       "    <tr>\n",
       "      <th>count</th>\n",
       "      <td>2037.000000</td>\n",
       "      <td>2037.000000</td>\n",
       "      <td>2037.000000</td>\n",
       "      <td>2037.000000</td>\n",
       "      <td>2037.000000</td>\n",
       "      <td>2037.000000</td>\n",
       "      <td>2037.000000</td>\n",
       "      <td>2037.000000</td>\n",
       "    </tr>\n",
       "    <tr>\n",
       "      <th>mean</th>\n",
       "      <td>645.351497</td>\n",
       "      <td>44.837997</td>\n",
       "      <td>4.932744</td>\n",
       "      <td>91108.539337</td>\n",
       "      <td>1.475209</td>\n",
       "      <td>0.699067</td>\n",
       "      <td>0.360825</td>\n",
       "      <td>101465.677531</td>\n",
       "    </tr>\n",
       "    <tr>\n",
       "      <th>std</th>\n",
       "      <td>100.321503</td>\n",
       "      <td>9.761562</td>\n",
       "      <td>2.936106</td>\n",
       "      <td>58360.794816</td>\n",
       "      <td>0.801521</td>\n",
       "      <td>0.458776</td>\n",
       "      <td>0.480358</td>\n",
       "      <td>57912.418071</td>\n",
       "    </tr>\n",
       "    <tr>\n",
       "      <th>min</th>\n",
       "      <td>350.000000</td>\n",
       "      <td>18.000000</td>\n",
       "      <td>0.000000</td>\n",
       "      <td>0.000000</td>\n",
       "      <td>1.000000</td>\n",
       "      <td>0.000000</td>\n",
       "      <td>0.000000</td>\n",
       "      <td>11.580000</td>\n",
       "    </tr>\n",
       "    <tr>\n",
       "      <th>25%</th>\n",
       "      <td>578.000000</td>\n",
       "      <td>38.000000</td>\n",
       "      <td>2.000000</td>\n",
       "      <td>38340.020000</td>\n",
       "      <td>1.000000</td>\n",
       "      <td>0.000000</td>\n",
       "      <td>0.000000</td>\n",
       "      <td>51907.720000</td>\n",
       "    </tr>\n",
       "    <tr>\n",
       "      <th>50%</th>\n",
       "      <td>646.000000</td>\n",
       "      <td>45.000000</td>\n",
       "      <td>5.000000</td>\n",
       "      <td>109349.290000</td>\n",
       "      <td>1.000000</td>\n",
       "      <td>1.000000</td>\n",
       "      <td>0.000000</td>\n",
       "      <td>102460.840000</td>\n",
       "    </tr>\n",
       "    <tr>\n",
       "      <th>75%</th>\n",
       "      <td>716.000000</td>\n",
       "      <td>51.000000</td>\n",
       "      <td>8.000000</td>\n",
       "      <td>131433.330000</td>\n",
       "      <td>2.000000</td>\n",
       "      <td>1.000000</td>\n",
       "      <td>1.000000</td>\n",
       "      <td>152422.910000</td>\n",
       "    </tr>\n",
       "    <tr>\n",
       "      <th>max</th>\n",
       "      <td>850.000000</td>\n",
       "      <td>84.000000</td>\n",
       "      <td>10.000000</td>\n",
       "      <td>250898.090000</td>\n",
       "      <td>4.000000</td>\n",
       "      <td>1.000000</td>\n",
       "      <td>1.000000</td>\n",
       "      <td>199808.100000</td>\n",
       "    </tr>\n",
       "  </tbody>\n",
       "</table>\n",
       "</div>"
      ],
      "text/plain": [
       "       CreditScore          Age       Tenure        Balance  NumOfProducts  \\\n",
       "count  2037.000000  2037.000000  2037.000000    2037.000000    2037.000000   \n",
       "mean    645.351497    44.837997     4.932744   91108.539337       1.475209   \n",
       "std     100.321503     9.761562     2.936106   58360.794816       0.801521   \n",
       "min     350.000000    18.000000     0.000000       0.000000       1.000000   \n",
       "25%     578.000000    38.000000     2.000000   38340.020000       1.000000   \n",
       "50%     646.000000    45.000000     5.000000  109349.290000       1.000000   \n",
       "75%     716.000000    51.000000     8.000000  131433.330000       2.000000   \n",
       "max     850.000000    84.000000    10.000000  250898.090000       4.000000   \n",
       "\n",
       "         HasCrCard  IsActiveMember  EstimatedSalary  \n",
       "count  2037.000000     2037.000000      2037.000000  \n",
       "mean      0.699067        0.360825    101465.677531  \n",
       "std       0.458776        0.480358     57912.418071  \n",
       "min       0.000000        0.000000        11.580000  \n",
       "25%       0.000000        0.000000     51907.720000  \n",
       "50%       1.000000        0.000000    102460.840000  \n",
       "75%       1.000000        1.000000    152422.910000  \n",
       "max       1.000000        1.000000    199808.100000  "
      ]
     },
     "execution_count": 142,
     "metadata": {},
     "output_type": "execute_result"
    }
   ],
   "source": [
    "# some discriptive statistics\n",
    "df1.describe()"
   ]
  },
  {
   "cell_type": "code",
   "execution_count": 148,
   "id": "6f25a774-b545-4d51-913b-23837b6d4515",
   "metadata": {},
   "outputs": [
    {
     "data": {
      "text/html": [
       "<div>\n",
       "<style scoped>\n",
       "    .dataframe tbody tr th:only-of-type {\n",
       "        vertical-align: middle;\n",
       "    }\n",
       "\n",
       "    .dataframe tbody tr th {\n",
       "        vertical-align: top;\n",
       "    }\n",
       "\n",
       "    .dataframe thead th {\n",
       "        text-align: right;\n",
       "    }\n",
       "</style>\n",
       "<table border=\"1\" class=\"dataframe\">\n",
       "  <thead>\n",
       "    <tr style=\"text-align: right;\">\n",
       "      <th></th>\n",
       "      <th>creditscore</th>\n",
       "      <th>country</th>\n",
       "      <th>gender</th>\n",
       "      <th>age</th>\n",
       "      <th>tenure</th>\n",
       "      <th>balance</th>\n",
       "      <th>products</th>\n",
       "      <th>card</th>\n",
       "      <th>member</th>\n",
       "      <th>salary</th>\n",
       "    </tr>\n",
       "  </thead>\n",
       "  <tbody>\n",
       "    <tr>\n",
       "      <th>0</th>\n",
       "      <td>619</td>\n",
       "      <td>France</td>\n",
       "      <td>Female</td>\n",
       "      <td>42</td>\n",
       "      <td>2</td>\n",
       "      <td>0.00</td>\n",
       "      <td>1</td>\n",
       "      <td>1</td>\n",
       "      <td>1</td>\n",
       "      <td>101348.88</td>\n",
       "    </tr>\n",
       "    <tr>\n",
       "      <th>1</th>\n",
       "      <td>502</td>\n",
       "      <td>France</td>\n",
       "      <td>Female</td>\n",
       "      <td>42</td>\n",
       "      <td>8</td>\n",
       "      <td>159660.80</td>\n",
       "      <td>3</td>\n",
       "      <td>1</td>\n",
       "      <td>0</td>\n",
       "      <td>113931.57</td>\n",
       "    </tr>\n",
       "    <tr>\n",
       "      <th>2</th>\n",
       "      <td>645</td>\n",
       "      <td>Spain</td>\n",
       "      <td>Male</td>\n",
       "      <td>44</td>\n",
       "      <td>8</td>\n",
       "      <td>113755.78</td>\n",
       "      <td>2</td>\n",
       "      <td>1</td>\n",
       "      <td>0</td>\n",
       "      <td>149756.71</td>\n",
       "    </tr>\n",
       "    <tr>\n",
       "      <th>3</th>\n",
       "      <td>376</td>\n",
       "      <td>Germany</td>\n",
       "      <td>Female</td>\n",
       "      <td>29</td>\n",
       "      <td>4</td>\n",
       "      <td>115046.74</td>\n",
       "      <td>4</td>\n",
       "      <td>1</td>\n",
       "      <td>0</td>\n",
       "      <td>119346.88</td>\n",
       "    </tr>\n",
       "    <tr>\n",
       "      <th>4</th>\n",
       "      <td>653</td>\n",
       "      <td>Germany</td>\n",
       "      <td>Male</td>\n",
       "      <td>58</td>\n",
       "      <td>1</td>\n",
       "      <td>132602.88</td>\n",
       "      <td>1</td>\n",
       "      <td>1</td>\n",
       "      <td>0</td>\n",
       "      <td>5097.67</td>\n",
       "    </tr>\n",
       "  </tbody>\n",
       "</table>\n",
       "</div>"
      ],
      "text/plain": [
       "   creditscore  country  gender  age  tenure    balance  products  card  \\\n",
       "0          619   France  Female   42       2       0.00         1     1   \n",
       "1          502   France  Female   42       8  159660.80         3     1   \n",
       "2          645    Spain    Male   44       8  113755.78         2     1   \n",
       "3          376  Germany  Female   29       4  115046.74         4     1   \n",
       "4          653  Germany    Male   58       1  132602.88         1     1   \n",
       "\n",
       "   member     salary  \n",
       "0       1  101348.88  \n",
       "1       0  113931.57  \n",
       "2       0  149756.71  \n",
       "3       0  119346.88  \n",
       "4       0    5097.67  "
      ]
     },
     "execution_count": 148,
     "metadata": {},
     "output_type": "execute_result"
    }
   ],
   "source": [
    "# renaming some columns\n",
    "df1 = df1.rename(columns = {'CreditScore':'creditscore','NumOfProducts':'products','Gender':'gender','Age':'age', 'Tenure':'tenure','Balance':'balance','HasCrCard': 'card', 'IsActiveMember':'member','EstimatedSalary':'salary', 'Geography':'country'})\n",
    "df1.head()"
   ]
  },
  {
   "cell_type": "code",
   "execution_count": 152,
   "id": "6ae919b9-6604-4e63-978b-5d9a3a30fb3d",
   "metadata": {},
   "outputs": [
    {
     "data": {
      "text/html": [
       "<div>\n",
       "<style scoped>\n",
       "    .dataframe tbody tr th:only-of-type {\n",
       "        vertical-align: middle;\n",
       "    }\n",
       "\n",
       "    .dataframe tbody tr th {\n",
       "        vertical-align: top;\n",
       "    }\n",
       "\n",
       "    .dataframe thead th {\n",
       "        text-align: right;\n",
       "    }\n",
       "</style>\n",
       "<table border=\"1\" class=\"dataframe\">\n",
       "  <thead>\n",
       "    <tr style=\"text-align: right;\">\n",
       "      <th></th>\n",
       "      <th>country</th>\n",
       "      <th>gender</th>\n",
       "      <th>age</th>\n",
       "      <th>tenure</th>\n",
       "      <th>products</th>\n",
       "      <th>card</th>\n",
       "      <th>member</th>\n",
       "      <th>creditscore</th>\n",
       "      <th>balance</th>\n",
       "      <th>salary</th>\n",
       "    </tr>\n",
       "  </thead>\n",
       "  <tbody>\n",
       "    <tr>\n",
       "      <th>0</th>\n",
       "      <td>France</td>\n",
       "      <td>Female</td>\n",
       "      <td>42</td>\n",
       "      <td>2</td>\n",
       "      <td>1</td>\n",
       "      <td>1</td>\n",
       "      <td>1</td>\n",
       "      <td>619</td>\n",
       "      <td>0.00</td>\n",
       "      <td>101348.88</td>\n",
       "    </tr>\n",
       "    <tr>\n",
       "      <th>1</th>\n",
       "      <td>France</td>\n",
       "      <td>Female</td>\n",
       "      <td>42</td>\n",
       "      <td>8</td>\n",
       "      <td>3</td>\n",
       "      <td>1</td>\n",
       "      <td>0</td>\n",
       "      <td>502</td>\n",
       "      <td>159660.80</td>\n",
       "      <td>113931.57</td>\n",
       "    </tr>\n",
       "    <tr>\n",
       "      <th>2</th>\n",
       "      <td>Spain</td>\n",
       "      <td>Male</td>\n",
       "      <td>44</td>\n",
       "      <td>8</td>\n",
       "      <td>2</td>\n",
       "      <td>1</td>\n",
       "      <td>0</td>\n",
       "      <td>645</td>\n",
       "      <td>113755.78</td>\n",
       "      <td>149756.71</td>\n",
       "    </tr>\n",
       "  </tbody>\n",
       "</table>\n",
       "</div>"
      ],
      "text/plain": [
       "  country  gender  age  tenure  products  card  member  creditscore  \\\n",
       "0  France  Female   42       2         1     1       1          619   \n",
       "1  France  Female   42       8         3     1       0          502   \n",
       "2   Spain    Male   44       8         2     1       0          645   \n",
       "\n",
       "     balance     salary  \n",
       "0       0.00  101348.88  \n",
       "1  159660.80  113931.57  \n",
       "2  113755.78  149756.71  "
      ]
     },
     "execution_count": 152,
     "metadata": {},
     "output_type": "execute_result"
    }
   ],
   "source": [
    "# rearranging columns starting with non numeric ones\n",
    "df1 = df1[['country','gender','age','tenure','products', 'card', 'member', 'creditscore', 'balance','salary']]\n",
    "df1.head(3)"
   ]
  },
  {
   "cell_type": "markdown",
   "id": "a483f52f-7280-48ff-a9d8-7b72706a6f21",
   "metadata": {},
   "source": [
    "## Exploratory Data Analysis"
   ]
  },
  {
   "cell_type": "markdown",
   "id": "985b8683-6e35-471b-a600-6a6437cbdc51",
   "metadata": {},
   "source": [
    "#### **Churn distribution by country**"
   ]
  },
  {
   "cell_type": "code",
   "execution_count": 227,
   "id": "962e1873-888d-4249-91c0-2abfb07b0dfe",
   "metadata": {},
   "outputs": [
    {
     "data": {
      "text/plain": [
       "Text(0.5, 1.0, 'fig 1')"
      ]
     },
     "execution_count": 227,
     "metadata": {},
     "output_type": "execute_result"
    },
    {
     "data": {
      "image/png": "[encoded data removed]",
      "text/plain": [
       "<Figure size 640x480 with 1 Axes>"
      ]
     },
     "metadata": {},
     "output_type": "display_data"
    }
   ],
   "source": [
    "# plotting the pie chart for country and the proportion of customers who churned.\n",
    "df1['country'].value_counts().plot(kind= 'pie', ylabel= '',colors= ['brown','red','turquoise'],autopct='%1.1f%%',explode= [0.03,0.03,0.09] )\n",
    "plt.title('fig 1')\n"
   ]
  },
  {
   "cell_type": "markdown",
   "id": "4b0038a3-893d-45a5-a272-486687b19863",
   "metadata": {},
   "source": [
    "#### **Churn distribution by gender**"
   ]
  },
  {
   "cell_type": "code",
   "execution_count": 236,
   "id": "b6fadd75-103d-4723-9c86-99c9a2657a5a",
   "metadata": {},
   "outputs": [
    {
     "data": {
      "text/plain": [
       "Text(0.5, 1.0, 'Churn distribution by Gender')"
      ]
     },
     "execution_count": 236,
     "metadata": {},
     "output_type": "execute_result"
    },
    {
     "data": {
      "image/png": "[encoded data removed]",
      "text/plain": [
       "<Figure size 640x480 with 1 Axes>"
      ]
     },
     "metadata": {},
     "output_type": "display_data"
    }
   ],
   "source": [
    "# plotting the bar chart for gender and the proportion of customers who churned.\n",
    "df1['gender'].value_counts().plot(kind= 'bar',xlabel= '', color = ['blue','brown'])\n",
    "plt.xticks(rotation= 'horizontal')\n",
    "plt.xlabel('Gender')\n",
    "plt.ylabel('Count')\n",
    "plt.title(label = 'Churn distribution by Gender')\n"
   ]
  },
  {
   "cell_type": "markdown",
   "id": "65a9e672-f4bd-447c-baa7-8edb54d4bca2",
   "metadata": {},
   "source": [
    "#### **Churn distribution by age**"
   ]
  },
  {
   "cell_type": "code",
   "execution_count": 240,
   "id": "190313e4-aea1-4fa7-b86f-4dfd7eec6c07",
   "metadata": {},
   "outputs": [
    {
     "data": {
      "text/plain": [
       "0       42\n",
       "1       42\n",
       "2       44\n",
       "3       29\n",
       "4       58\n",
       "        ..\n",
       "2032    42\n",
       "2033    46\n",
       "2034    53\n",
       "2035    36\n",
       "2036    42\n",
       "Name: age, Length: 2037, dtype: int64"
      ]
     },
     "execution_count": 240,
     "metadata": {},
     "output_type": "execute_result"
    }
   ],
   "source": [
    "df1['age']"
   ]
  },
  {
   "cell_type": "code",
   "execution_count": 225,
   "id": "c54445a6-f570-4159-af81-951eb6cd9390",
   "metadata": {},
   "outputs": [
    {
     "data": {
      "text/plain": [
       "Text(0.5, 1.0, 'fig 3')"
      ]
     },
     "execution_count": 225,
     "metadata": {},
     "output_type": "execute_result"
    },
    {
     "data": {
      "image/png": "[encoded data removed]",
      "text/plain": [
       "<Figure size 640x480 with 1 Axes>"
      ]
     },
     "metadata": {},
     "output_type": "display_data"
    }
   ],
   "source": [
    "# converting the age values into categories \n",
    "def rank_age(years):\n",
    "    if years <=39:\n",
    "        return 'young'\n",
    "    elif years>39 and years<59:\n",
    "        return 'middle adulthood'\n",
    "    else:\n",
    "        return 'old age'\n",
    "df1['age'].apply(func = rank_age).value_counts().plot(kind = 'pie',autopct='%1.1f%%',explode= [0.02,0.04,0.09],colors= ['red','brown','grey'])\n",
    "plt.ylabel('')\n",
    "plt.title('fig 3')\n",
    "        "
   ]
  },
  {
   "cell_type": "markdown",
   "id": "94da34cd-840d-4715-85ab-846aaeed5b01",
   "metadata": {},
   "source": [
    "#### **Churn distribution by salary**"
   ]
  },
  {
   "cell_type": "raw",
   "id": "999b2f08-dc50-4451-9084-56d251d64ac9",
   "metadata": {},
   "source": [
    "df1['salary'].describe()"
   ]
  },
  {
   "cell_type": "code",
   "execution_count": 219,
   "id": "b145949a-4091-466c-9eb0-dca8ab0acf97",
   "metadata": {
    "scrolled": true
   },
   "outputs": [
    {
     "data": {
      "text/plain": [
       "<Figure size 1000x400 with 0 Axes>"
      ]
     },
     "execution_count": 219,
     "metadata": {},
     "output_type": "execute_result"
    },
    {
     "data": {
      "image/png": "[encoded data removed]",
      "text/plain": [
       "<Figure size 640x480 with 1 Axes>"
      ]
     },
     "metadata": {},
     "output_type": "display_data"
    },
    {
     "data": {
      "text/plain": [
       "<Figure size 1000x400 with 0 Axes>"
      ]
     },
     "metadata": {},
     "output_type": "display_data"
    }
   ],
   "source": [
    "# Converting values in the salary column into categories.\n",
    "def rank_sal(pay):\n",
    "    if pay <= 50000: \n",
    "        return 'low'\n",
    "    elif pay >50000 and pay<= 100000:\n",
    "        return 'middle'\n",
    "    elif pay>100000 and pay<=150000:\n",
    "        return 'high'\n",
    "    else:\n",
    "        return 'very high'\n",
    "df1['salary'].apply(rank_sal).value_counts().plot(kind= 'bar',color= 'red')\n",
    "plt.xticks(rotation= 'horizontal')\n",
    "plt.title('Salary distribution')\n",
    "plt.ylabel('count')\n",
    "plt.xlabel('Salary')  \n",
    "plt.figure(figsize=(10, 4))"
   ]
  },
  {
   "cell_type": "markdown",
   "id": "d17e2149-1dde-4494-b2cd-6fd61c637d39",
   "metadata": {},
   "source": [
    "#### **Churn distribution by account balance**"
   ]
  },
  {
   "cell_type": "code",
   "execution_count": 160,
   "id": "ee85ee55-d19a-4762-b782-ea5d8920fd57",
   "metadata": {},
   "outputs": [
    {
     "data": {
      "text/plain": [
       "count      2037.000000\n",
       "mean      91108.539337\n",
       "std       58360.794816\n",
       "min           0.000000\n",
       "25%       38340.020000\n",
       "50%      109349.290000\n",
       "75%      131433.330000\n",
       "max      250898.090000\n",
       "Name: balance, dtype: float64"
      ]
     },
     "execution_count": 160,
     "metadata": {},
     "output_type": "execute_result"
    }
   ],
   "source": [
    "df1['balance'].describe()"
   ]
  },
  {
   "cell_type": "code",
   "execution_count": 221,
   "id": "aebbc3c0-ad68-4086-9f41-75ef062df1d3",
   "metadata": {},
   "outputs": [
    {
     "data": {
      "text/plain": [
       "Text(0.5, 0, 'Balance')"
      ]
     },
     "execution_count": 221,
     "metadata": {},
     "output_type": "execute_result"
    },
    {
     "data": {
      "image/png": "[encoded data removed]",
      "text/plain": [
       "<Figure size 640x480 with 1 Axes>"
      ]
     },
     "metadata": {},
     "output_type": "display_data"
    }
   ],
   "source": [
    "# Converting the values in the Balance column into categories.\n",
    "def rank_bal(balance):\n",
    "    if balance <= 40000: \n",
    "        return 'low'\n",
    "    elif balance >40000 and balance<= 110000:\n",
    "        return 'middle'\n",
    "    elif balance>110000 and balance<=140000:\n",
    "        return 'high'\n",
    "    else:\n",
    "        return 'very high'\n",
    "df1['balance'].apply(rank_sal).value_counts().plot(kind= 'bar',color ='turquoise')\n",
    "plt.xticks(rotation= 'horizontal')\n",
    "plt.title('Account balance distribution')\n",
    "plt.ylabel('count')\n",
    "plt.xlabel('Balance')"
   ]
  },
  {
   "cell_type": "markdown",
   "id": "6e0f3f97-c030-435c-bd48-0a4edaac6257",
   "metadata": {},
   "source": [
    "#### **Churn distribution by creditscore**"
   ]
  },
  {
   "cell_type": "code",
   "execution_count": 223,
   "id": "fe567b73-7184-4c07-b46c-b91118743780",
   "metadata": {},
   "outputs": [
    {
     "data": {
      "text/plain": [
       "count    2037.000000\n",
       "mean      645.351497\n",
       "std       100.321503\n",
       "min       350.000000\n",
       "25%       578.000000\n",
       "50%       646.000000\n",
       "75%       716.000000\n",
       "max       850.000000\n",
       "Name: creditscore, dtype: float64"
      ]
     },
     "execution_count": 223,
     "metadata": {},
     "output_type": "execute_result"
    }
   ],
   "source": [
    "df1['creditscore'].describe()"
   ]
  },
  {
   "cell_type": "code",
   "execution_count": 92,
   "id": "87adb408-f5f3-4c7a-9951-bde4426722c1",
   "metadata": {},
   "outputs": [
    {
     "data": {
      "text/plain": [
       "<Figure size 1600x2500 with 0 Axes>"
      ]
     },
     "execution_count": 92,
     "metadata": {},
     "output_type": "execute_result"
    },
    {
     "data": {
      "image/png": "[encoded data removed]",
      "text/plain": [
       "<Figure size 640x480 with 1 Axes>"
      ]
     },
     "metadata": {},
     "output_type": "display_data"
    },
    {
     "data": {
      "text/plain": [
       "<Figure size 1600x2500 with 0 Axes>"
      ]
     },
     "metadata": {},
     "output_type": "display_data"
    }
   ],
   "source": [
    "# Converting the values in the creditscore column into categories.\n",
    "def rank_credit(score):\n",
    "    if score <= 595: \n",
    "        return 'poor'\n",
    "    elif score >579 and score<=669 :\n",
    "        return 'fair'\n",
    "    elif score>669 and score<=739:\n",
    "        return 'good'\n",
    "    elif score>739 and score<=799:\n",
    "        return'very good'\n",
    "    else:\n",
    "        return 'exceptional'\n",
    "df1['creditscore'].apply(rank_credit).value_counts().plot(kind= 'bar',color ='brown')\n",
    "plt.xticks(rotation= 'horizontal')\n",
    "plt.title('creditscore distribution')\n",
    "plt.ylabel('count')\n",
    "plt.xlabel('creditscore')\n",
    "plt.figure(figsize=(16, 25))\n"
   ]
  },
  {
   "cell_type": "markdown",
   "id": "6ea6757a-abbf-40b9-98e9-556e99ccfdca",
   "metadata": {},
   "source": [
    "#### **Churn distribution by tenure**"
   ]
  },
  {
   "cell_type": "code",
   "execution_count": 168,
   "id": "f127db7f-52e2-48de-a521-92eae50a5a56",
   "metadata": {},
   "outputs": [
    {
     "data": {
      "text/html": [
       "<div>\n",
       "<style scoped>\n",
       "    .dataframe tbody tr th:only-of-type {\n",
       "        vertical-align: middle;\n",
       "    }\n",
       "\n",
       "    .dataframe tbody tr th {\n",
       "        vertical-align: top;\n",
       "    }\n",
       "\n",
       "    .dataframe thead th {\n",
       "        text-align: right;\n",
       "    }\n",
       "</style>\n",
       "<table border=\"1\" class=\"dataframe\">\n",
       "  <thead>\n",
       "    <tr style=\"text-align: right;\">\n",
       "      <th></th>\n",
       "      <th>country</th>\n",
       "      <th>gender</th>\n",
       "      <th>age</th>\n",
       "      <th>tenure</th>\n",
       "      <th>products</th>\n",
       "      <th>card</th>\n",
       "      <th>member</th>\n",
       "      <th>creditscore</th>\n",
       "      <th>balance</th>\n",
       "      <th>salary</th>\n",
       "    </tr>\n",
       "  </thead>\n",
       "  <tbody>\n",
       "    <tr>\n",
       "      <th>481</th>\n",
       "      <td>Spain</td>\n",
       "      <td>Female</td>\n",
       "      <td>45</td>\n",
       "      <td>0</td>\n",
       "      <td>1</td>\n",
       "      <td>1</td>\n",
       "      <td>0</td>\n",
       "      <td>689</td>\n",
       "      <td>57784.22</td>\n",
       "      <td>197804.00</td>\n",
       "    </tr>\n",
       "    <tr>\n",
       "      <th>1103</th>\n",
       "      <td>Germany</td>\n",
       "      <td>Male</td>\n",
       "      <td>31</td>\n",
       "      <td>0</td>\n",
       "      <td>1</td>\n",
       "      <td>1</td>\n",
       "      <td>0</td>\n",
       "      <td>510</td>\n",
       "      <td>113688.63</td>\n",
       "      <td>33099.41</td>\n",
       "    </tr>\n",
       "    <tr>\n",
       "      <th>296</th>\n",
       "      <td>Spain</td>\n",
       "      <td>Female</td>\n",
       "      <td>33</td>\n",
       "      <td>0</td>\n",
       "      <td>1</td>\n",
       "      <td>1</td>\n",
       "      <td>0</td>\n",
       "      <td>636</td>\n",
       "      <td>0.00</td>\n",
       "      <td>92277.47</td>\n",
       "    </tr>\n",
       "    <tr>\n",
       "      <th>1094</th>\n",
       "      <td>Germany</td>\n",
       "      <td>Female</td>\n",
       "      <td>40</td>\n",
       "      <td>0</td>\n",
       "      <td>1</td>\n",
       "      <td>1</td>\n",
       "      <td>1</td>\n",
       "      <td>655</td>\n",
       "      <td>81954.60</td>\n",
       "      <td>198798.44</td>\n",
       "    </tr>\n",
       "    <tr>\n",
       "      <th>1625</th>\n",
       "      <td>France</td>\n",
       "      <td>Male</td>\n",
       "      <td>45</td>\n",
       "      <td>0</td>\n",
       "      <td>1</td>\n",
       "      <td>1</td>\n",
       "      <td>0</td>\n",
       "      <td>623</td>\n",
       "      <td>0.00</td>\n",
       "      <td>196533.72</td>\n",
       "    </tr>\n",
       "    <tr>\n",
       "      <th>...</th>\n",
       "      <td>...</td>\n",
       "      <td>...</td>\n",
       "      <td>...</td>\n",
       "      <td>...</td>\n",
       "      <td>...</td>\n",
       "      <td>...</td>\n",
       "      <td>...</td>\n",
       "      <td>...</td>\n",
       "      <td>...</td>\n",
       "      <td>...</td>\n",
       "    </tr>\n",
       "    <tr>\n",
       "      <th>77</th>\n",
       "      <td>Germany</td>\n",
       "      <td>Male</td>\n",
       "      <td>45</td>\n",
       "      <td>10</td>\n",
       "      <td>3</td>\n",
       "      <td>1</td>\n",
       "      <td>1</td>\n",
       "      <td>745</td>\n",
       "      <td>117231.63</td>\n",
       "      <td>122381.02</td>\n",
       "    </tr>\n",
       "    <tr>\n",
       "      <th>1095</th>\n",
       "      <td>Germany</td>\n",
       "      <td>Female</td>\n",
       "      <td>37</td>\n",
       "      <td>10</td>\n",
       "      <td>1</td>\n",
       "      <td>1</td>\n",
       "      <td>0</td>\n",
       "      <td>780</td>\n",
       "      <td>95196.26</td>\n",
       "      <td>126310.39</td>\n",
       "    </tr>\n",
       "    <tr>\n",
       "      <th>48</th>\n",
       "      <td>France</td>\n",
       "      <td>Male</td>\n",
       "      <td>33</td>\n",
       "      <td>10</td>\n",
       "      <td>1</td>\n",
       "      <td>1</td>\n",
       "      <td>0</td>\n",
       "      <td>850</td>\n",
       "      <td>0.00</td>\n",
       "      <td>4861.72</td>\n",
       "    </tr>\n",
       "    <tr>\n",
       "      <th>1249</th>\n",
       "      <td>France</td>\n",
       "      <td>Female</td>\n",
       "      <td>37</td>\n",
       "      <td>10</td>\n",
       "      <td>3</td>\n",
       "      <td>0</td>\n",
       "      <td>1</td>\n",
       "      <td>629</td>\n",
       "      <td>99546.25</td>\n",
       "      <td>25136.95</td>\n",
       "    </tr>\n",
       "    <tr>\n",
       "      <th>1804</th>\n",
       "      <td>France</td>\n",
       "      <td>Male</td>\n",
       "      <td>51</td>\n",
       "      <td>10</td>\n",
       "      <td>1</td>\n",
       "      <td>1</td>\n",
       "      <td>1</td>\n",
       "      <td>350</td>\n",
       "      <td>0.00</td>\n",
       "      <td>125823.79</td>\n",
       "    </tr>\n",
       "  </tbody>\n",
       "</table>\n",
       "<p>2037 rows × 10 columns</p>\n",
       "</div>"
      ],
      "text/plain": [
       "      country  gender  age  tenure  products  card  member  creditscore  \\\n",
       "481     Spain  Female   45       0         1     1       0          689   \n",
       "1103  Germany    Male   31       0         1     1       0          510   \n",
       "296     Spain  Female   33       0         1     1       0          636   \n",
       "1094  Germany  Female   40       0         1     1       1          655   \n",
       "1625   France    Male   45       0         1     1       0          623   \n",
       "...       ...     ...  ...     ...       ...   ...     ...          ...   \n",
       "77    Germany    Male   45      10         3     1       1          745   \n",
       "1095  Germany  Female   37      10         1     1       0          780   \n",
       "48     France    Male   33      10         1     1       0          850   \n",
       "1249   France  Female   37      10         3     0       1          629   \n",
       "1804   France    Male   51      10         1     1       1          350   \n",
       "\n",
       "        balance     salary  \n",
       "481    57784.22  197804.00  \n",
       "1103  113688.63   33099.41  \n",
       "296        0.00   92277.47  \n",
       "1094   81954.60  198798.44  \n",
       "1625       0.00  196533.72  \n",
       "...         ...        ...  \n",
       "77    117231.63  122381.02  \n",
       "1095   95196.26  126310.39  \n",
       "48         0.00    4861.72  \n",
       "1249   99546.25   25136.95  \n",
       "1804       0.00  125823.79  \n",
       "\n",
       "[2037 rows x 10 columns]"
      ]
     },
     "execution_count": 168,
     "metadata": {},
     "output_type": "execute_result"
    }
   ],
   "source": [
    "df2 = df1.sort_values('tenure')\n",
    "df2"
   ]
  },
  {
   "cell_type": "code",
   "execution_count": 170,
   "id": "eae5cbd0-fe00-4f74-811c-386d583a0217",
   "metadata": {},
   "outputs": [
    {
     "data": {
      "text/plain": [
       "count    2037.000000\n",
       "mean        4.932744\n",
       "std         2.936106\n",
       "min         0.000000\n",
       "25%         2.000000\n",
       "50%         5.000000\n",
       "75%         8.000000\n",
       "max        10.000000\n",
       "Name: tenure, dtype: float64"
      ]
     },
     "execution_count": 170,
     "metadata": {},
     "output_type": "execute_result"
    }
   ],
   "source": [
    "df2['tenure'].describe()"
   ]
  },
  {
   "cell_type": "code",
   "execution_count": 172,
   "id": "7a144716-1d76-427b-a6fa-762b1c764227",
   "metadata": {},
   "outputs": [
    {
     "data": {
      "text/plain": [
       "Text(0, 0.5, 'Count')"
      ]
     },
     "execution_count": 172,
     "metadata": {},
     "output_type": "execute_result"
    },
    {
     "data": {
      "image/png": "[encoded data removed]",
      "text/plain": [
       "<Figure size 640x480 with 1 Axes>"
      ]
     },
     "metadata": {},
     "output_type": "display_data"
    }
   ],
   "source": [
    "df2['tenure'].value_counts(sort =False).plot(kind= 'bar',color= 'brown')\n",
    "plt.xticks(rotation= 'horizontal')\n",
    "plt.title('Churn distribution by tenure')\n",
    "plt.xlabel('Tenure in years')\n",
    "plt.ylabel('Count')"
   ]
  },
  {
   "cell_type": "markdown",
   "id": "1cb71163-20f2-4b30-9734-a80b6a214d71",
   "metadata": {},
   "source": [
    "#### **Churn distribution by number of products**"
   ]
  },
  {
   "cell_type": "code",
   "execution_count": 174,
   "id": "b81c840e-e3f1-4301-a595-59e8f1de4c47",
   "metadata": {},
   "outputs": [
    {
     "data": {
      "text/plain": [
       "count    2037.000000\n",
       "mean        1.475209\n",
       "std         0.801521\n",
       "min         1.000000\n",
       "25%         1.000000\n",
       "50%         1.000000\n",
       "75%         2.000000\n",
       "max         4.000000\n",
       "Name: products, dtype: float64"
      ]
     },
     "execution_count": 174,
     "metadata": {},
     "output_type": "execute_result"
    }
   ],
   "source": [
    "df1['products'].describe()"
   ]
  },
  {
   "cell_type": "code",
   "execution_count": 176,
   "id": "6455f596-9f65-4cf1-8617-ab64904ce43a",
   "metadata": {},
   "outputs": [
    {
     "data": {
      "text/plain": [
       "Text(0, 0.5, 'Count')"
      ]
     },
     "execution_count": 176,
     "metadata": {},
     "output_type": "execute_result"
    },
    {
     "data": {
      "image/png": "[encoded data removed]",
      "text/plain": [
       "<Figure size 640x480 with 1 Axes>"
      ]
     },
     "metadata": {},
     "output_type": "display_data"
    }
   ],
   "source": [
    "df1['products'].value_counts().plot(kind = 'bar', color= 'orange')\n",
    "plt.xticks(rotation= 'horizontal')\n",
    "plt.title('Number of products vs count of customers')\n",
    "plt.ylabel('Count')"
   ]
  },
  {
   "cell_type": "markdown",
   "id": "4ff083ae-ca87-430a-83c1-6e5a200fa672",
   "metadata": {},
   "source": [
    "#### **Churn distribution by whether the customer has a credit card or not**"
   ]
  },
  {
   "cell_type": "code",
   "execution_count": 178,
   "id": "ab87bd06-d786-45de-a2a3-a647cea16670",
   "metadata": {},
   "outputs": [
    {
     "data": {
      "text/plain": [
       "(array([0, 1]), [Text(0, 0, 'yes'), Text(1, 0, 'no')])"
      ]
     },
     "execution_count": 178,
     "metadata": {},
     "output_type": "execute_result"
    },
    {
     "data": {
      "image/png": "[encoded data removed]",
      "text/plain": [
       "<Figure size 640x480 with 1 Axes>"
      ]
     },
     "metadata": {},
     "output_type": "display_data"
    }
   ],
   "source": [
    "# replacing 0s and 1s with no and yes respectively\n",
    "df3 = df1['card'].replace({1:'yes',0:'no'})\n",
    "df3.value_counts().plot(kind= 'bar',color= 'black')\n",
    "plt.xticks(rotation= 'horizontal')"
   ]
  },
  {
   "cell_type": "markdown",
   "id": "60c0d2c2-b357-4feb-95ab-c963ee9eda27",
   "metadata": {},
   "source": [
    "#### **Churn distribution by weather **"
   ]
  },
  {
   "cell_type": "code",
   "execution_count": 180,
   "id": "b98ae2fe-095f-4f78-9165-807bd9fec7b8",
   "metadata": {},
   "outputs": [],
   "source": [
    "# replace values in the member \n",
    "df4 = df1['member'].replace({1:'yes',0:'No'})"
   ]
  },
  {
   "cell_type": "code",
   "execution_count": 182,
   "id": "fe11f64d-6b72-40f7-8150-10fc818d47c4",
   "metadata": {},
   "outputs": [
    {
     "data": {
      "text/plain": [
       "Text(0.5, 1.0, 'Is member distribution')"
      ]
     },
     "execution_count": 182,
     "metadata": {},
     "output_type": "execute_result"
    },
    {
     "data": {
      "image/png": "[encoded data removed]",
      "text/plain": [
       "<Figure size 640x480 with 1 Axes>"
      ]
     },
     "metadata": {},
     "output_type": "display_data"
    }
   ],
   "source": [
    "df4.value_counts().plot(kind= 'bar',color= 'grey')\n",
    "plt.xlabel('Is member')\n",
    "plt.xticks(rotation= 'horizontal')\n",
    "plt.ylabel('Count')\n",
    "plt.title('Is member distribution')"
   ]
  },
  {
   "cell_type": "markdown",
   "id": "2d4f62c5-7303-4028-bed3-0cbbe9320e67",
   "metadata": {},
   "source": [
    "###                                                          Conclusion:"
   ]
  },
  {
   "cell_type": "markdown",
   "id": "55c8bdd2-eb71-4d68-99e9-820fe9c74aa0",
   "metadata": {},
   "source": [
    "* From the first graph, Germany has the highest churn rate (40%), followed by France (39.8) and Spain (20.3). This insight can assist the bank in targeting specific regions for retention efforts or exploring reasons behind the higher churn rate in Germany. This may suggest that the bank has a heavy competition in this country.\n",
    "\n",
    "* For the churn distribution based on gender, female customers are likely to churn than male customers. Further analysis is required to ascertain whether this difference is significant.\n",
    "\n",
    "* From the churn distribution by age graph in fig 3, the highest churn rate is found in 40 - 59 age bracket. Customers who are 60 years and older seem to be loyal to the bank and are less\n",
    "likely to churn the bank.\n",
    "\n",
    "* Salary do not impact the customer attrition rate. From figure 3 we can see that there is nothing interesting in the churn distribution by salary column as there is\n",
    "no significant churn rate difference among all age groups.\n",
    "\n",
    "* From the churn distribution by tenure graph, customers who have 1 year with the bank are the most likely to leave for other competitors, while those are with the bank for 10 years tend\n",
    "to stay.\n",
    "\n",
    "* Customers with only 1 bank product churned the most while those with 4 are likely to continue with the bank. The number of products a customer uses negetively correlates with the churn\n",
    "rate.\n",
    "\n",
    "* From the churn distribution by card, customers with a poor credit history (that is, a credit score below 595) will undoubtedly leave the bank, which is visible in the bar graph on fig 5.\n",
    "\n",
    "* From the churn distribution by member graph, it is apparent that customers who are no active members are leaving the bank thwe most while those who are active members are likely to stick\n",
    "to the bank.\n",
    "\n",
    "* Customers with account balance lies in the range 110000 and 140000 are likeley to churn the bank. Premium accounts and higher savings interest at other banks could be the root cause of this. \n",
    "\n",
    "\n",
    "    \n"
   ]
  },
  {
   "cell_type": "code",
   "execution_count": null,
   "id": "17865cf5-1161-4645-8abe-cbee2da292a5",
   "metadata": {},
   "outputs": [],
   "source": []
  }
 ],
 "metadata": {
  "kernelspec": {
   "display_name": "Python 3 (ipykernel)",
   "language": "python",
   "name": "python3"
  },
  "language_info": {
   "codemirror_mode": {
    "name": "ipython",
    "version": 3
   },
   "file_extension": ".py",
   "mimetype": "text/x-python",
   "name": "python",
   "nbconvert_exporter": "python",
   "pygments_lexer": "ipython3",
   "version": "3.12.4"
  }
 },
 "nbformat": 4,
 "nbformat_minor": 5
}
